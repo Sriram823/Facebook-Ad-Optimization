{
  "nbformat": 4,
  "nbformat_minor": 0,
  "metadata": {
    "colab": {
      "provenance": [],
      "collapsed_sections": [],
      "authorship_tag": "ABX9TyOQNkFSHenC77FZctGzA09U",
      "include_colab_link": true
    },
    "kernelspec": {
      "name": "python3",
      "display_name": "Python 3"
    },
    "language_info": {
      "name": "python"
    }
  },
  "cells": [
    {
      "cell_type": "markdown",
      "metadata": {
        "id": "view-in-github",
        "colab_type": "text"
      },
      "source": [
        "<a href=\"https://colab.research.google.com/github/Sriram823/Facebook-Ad-Optimization/blob/main/Thompson_Sampling_Algorithm.ipynb\" target=\"_parent\"><img src=\"https://colab.research.google.com/assets/colab-badge.svg\" alt=\"Open In Colab\"/></a>"
      ]
    },
    {
      "cell_type": "markdown",
      "source": [
        "# Thompson Sampling\n"
      ],
      "metadata": {
        "id": "MLmzj0cZAm-Q"
      }
    },
    {
      "cell_type": "markdown",
      "source": [
        "## Importing Libraries"
      ],
      "metadata": {
        "id": "y-hdzzAKAuc9"
      }
    },
    {
      "cell_type": "code",
      "source": [
        "import numpy as np\n",
        "import pandas as pd\n",
        "import matplotlib.pyplot as plt"
      ],
      "metadata": {
        "id": "4nRsZ5CxA_tu"
      },
      "execution_count": 11,
      "outputs": []
    },
    {
      "cell_type": "markdown",
      "source": [
        "## Importing Dataset\n",
        "\n",
        "\n"
      ],
      "metadata": {
        "id": "pIv_fJGwBFQU"
      }
    },
    {
      "cell_type": "code",
      "source": [
        "dataset = pd.read_csv('/content/Thomson Sampling Facebook Ads.csv')"
      ],
      "metadata": {
        "id": "FnCrklanBErk"
      },
      "execution_count": 12,
      "outputs": []
    },
    {
      "cell_type": "markdown",
      "source": [
        "## Implementation"
      ],
      "metadata": {
        "id": "DTPkNbl6BPOs"
      }
    },
    {
      "cell_type": "code",
      "source": [
        "import math\n",
        "import random\n",
        "T = 300\n",
        "num_ads = 10\n",
        "ads_selected = []\n",
        "\n",
        "num_of_rewards_1 = [0] * num_ads\n",
        "num_of_rewards_0 = [0] * num_ads\n",
        "\n",
        "total_rewards = 0\n",
        "\n",
        "for n in range(0, T):\n",
        "  ad = 0\n",
        "  max_random = 0\n",
        "  for i in range(0, num_ads):\n",
        "    random_beta = random.betavariate(num_of_rewards_1[i] + 1, num_of_rewards_0[i] + 1)\n",
        "    if (random_beta > max_random):\n",
        "      max_random = random_beta\n",
        "      ad = i\n",
        "    ads_selected.append(ad)\n",
        "    reward = dataset.values[n, ad]\n",
        "\n",
        "    if reward == 1:\n",
        "      num_of_rewards_1[ad] = num_of_rewards_1[ad] + 1\n",
        "    else:\n",
        "      num_of_rewards_0[ad] = num_of_rewards_0[ad] + 1\n",
        "\n",
        "    total_rewards = total_rewards + reward"
      ],
      "metadata": {
        "id": "SLA6MrcsBWVY"
      },
      "execution_count": 19,
      "outputs": []
    },
    {
      "cell_type": "markdown",
      "source": [
        "## Histogram Visualization"
      ],
      "metadata": {
        "id": "sDEFXFcLBnGk"
      }
    },
    {
      "cell_type": "code",
      "source": [
        "plt.hist(ads_selected)\n",
        "plt.title('Histogram of ads selections')\n",
        "plt.xlabel('Ads')\n",
        "plt.ylabel('Number of times each Ad was selected')\n",
        "plt.show()\n"
      ],
      "metadata": {
        "colab": {
          "base_uri": "https://localhost:8080/",
          "height": 295
        },
        "id": "N1nQIKEXBqP8",
        "outputId": "8fe28c19-0d62-4eb9-802a-cb29399cd724"
      },
      "execution_count": 20,
      "outputs": [
        {
          "output_type": "display_data",
          "data": {
            "text/plain": [
              "<Figure size 432x288 with 1 Axes>"
            ],
            "image/png": "[encoded data removed]"
          },
          "metadata": {
            "needs_background": "light"
          }
        }
      ]
    }
  ]
}