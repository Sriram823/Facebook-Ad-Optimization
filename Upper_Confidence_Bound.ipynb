{
  "nbformat": 4,
  "nbformat_minor": 0,
  "metadata": {
    "colab": {
      "provenance": [],
      "collapsed_sections": [],
      "authorship_tag": "ABX9TyP0/KLxUUPTYThhOlg+sdTf",
      "include_colab_link": true
    },
    "kernelspec": {
      "name": "python3",
      "display_name": "Python 3"
    },
    "language_info": {
      "name": "python"
    }
  },
  "cells": [
    {
      "cell_type": "markdown",
      "metadata": {
        "id": "view-in-github",
        "colab_type": "text"
      },
      "source": [
        "<a href=\"https://colab.research.google.com/github/Sriram823/Facebook-Ad-Optimization/blob/main/Upper_Confidence_Bound.ipynb\" target=\"_parent\"><img src=\"https://colab.research.google.com/assets/colab-badge.svg\" alt=\"Open In Colab\"/></a>"
      ]
    },
    {
      "cell_type": "markdown",
      "source": [
        "# Upper Confidence Bound"
      ],
      "metadata": {
        "id": "-kPyRpYvCqO0"
      }
    },
    {
      "cell_type": "markdown",
      "source": [
        "##Importing Libraries"
      ],
      "metadata": {
        "id": "hnsRmRIrE4hq"
      }
    },
    {
      "cell_type": "code",
      "source": [
        "import numpy as np \n",
        "import matplotlib.pyplot as plt\n",
        "import pandas as pd"
      ],
      "metadata": {
        "id": "ApWMai8uE7sg"
      },
      "execution_count": 24,
      "outputs": []
    },
    {
      "cell_type": "markdown",
      "source": [
        "##Importing Dataset"
      ],
      "metadata": {
        "id": "k6lTElV_C3Cp"
      }
    },
    {
      "cell_type": "code",
      "source": [
        "dataset = pd.read_csv('New Facebook Ads Optimization.csv')"
      ],
      "metadata": {
        "id": "bauWmHzzC7z1"
      },
      "execution_count": 25,
      "outputs": []
    },
    {
      "cell_type": "markdown",
      "source": [
        "##Implementation"
      ],
      "metadata": {
        "id": "SN294HSxDNmw"
      }
    },
    {
      "cell_type": "code",
      "source": [
        "import math as m\n",
        "T = 100\n",
        "num_ads = 10\n",
        "ads_selected = []\n",
        "\n",
        "numbers_of_selections = [0] * num_ads\n",
        "sums_of_rewards = [0] * num_ads\n",
        "total_rewards = 0\n",
        "\n",
        "for n in range(0, T):\n",
        "  ad = 0\n",
        "  max_upper_confidence_bound = 0\n",
        "  for i in range(0, num_ads):\n",
        "    if (numbers_of_selections[i] > 0):\n",
        "      average_reward = sums_of_rewards[i] / numbers_of_selections[i]\n",
        "      delta_i = m.sqrt(3/2 * (m.log(n + 1) / numbers_of_selections[i]))\n",
        "      upper_confidence_bound = average_reward + delta_i\n",
        "    else:\n",
        "      upper_confidence_bound = 1e400\n",
        "    if (upper_confidence_bound > max_upper_confidence_bound):\n",
        "      max_upper_confidence_bound = upper_confidence_bound\n",
        "      ad = i\n",
        "  ads_selected.append(ad)\n",
        "  numbers_of_selections[ad] = numbers_of_selections[ad] + 1\n",
        "  temp_rewards = dataset.values[n,ad]\n",
        "  sums_of_rewards[ad] = sums_of_rewards[ad] + temp_rewards\n",
        "  total_rewards = total_rewards + temp_rewards"
      ],
      "metadata": {
        "id": "OrxgLWjnFm2l"
      },
      "execution_count": 48,
      "outputs": []
    },
    {
      "cell_type": "markdown",
      "source": [
        "#Histogram Visualization"
      ],
      "metadata": {
        "id": "yGnk7iyFRkbU"
      }
    },
    {
      "cell_type": "code",
      "source": [
        "plt.hist(ads_selected)\n",
        "plt.title('Histogram of Facebook Ads Selections')\n",
        "plt.xlabel('Ads Number')\n",
        "plt.ylabel('Selection times of each ad')\n",
        "plt.show()"
      ],
      "metadata": {
        "colab": {
          "base_uri": "https://localhost:8080/",
          "height": 295
        },
        "id": "p61uXphBRrsC",
        "outputId": "98bb49fc-571e-43a8-bfa2-982dc4437153"
      },
      "execution_count": 49,
      "outputs": [
        {
          "output_type": "display_data",
          "data": {
            "text/plain": [
              "<Figure size 432x288 with 1 Axes>"
            ],
            "image/png": "[encoded data removed]"
          },
          "metadata": {
            "needs_background": "light"
          }
        }
      ]
    }
  ]
}